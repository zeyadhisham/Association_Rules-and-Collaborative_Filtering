{
 "cells": [
  {
   "cell_type": "markdown",
   "id": "63b475a8",
   "metadata": {},
   "source": [
    "##  <center> DTI 5126: Fundamentals for Applied Data Science </center>\n",
    "###  <center> Assignment 4 </center>\n",
    "###  <center> Zeyad Elsayed </center>"
   ]
  },
  {
   "cell_type": "markdown",
   "id": "c4909d95",
   "metadata": {},
   "source": [
    "## Part A: Association Rules\n",
    "\n",
    "> ### I."
   ]
  },
  {
   "cell_type": "code",
   "execution_count": 125,
   "id": "090c331c",
   "metadata": {},
   "outputs": [],
   "source": [
    "library(arules)\n",
    "#library(arulesViz)"
   ]
  },
  {
   "cell_type": "code",
   "execution_count": 182,
   "id": "7b69255f",
   "metadata": {
    "scrolled": false
   },
   "outputs": [
    {
     "name": "stderr",
     "output_type": "stream",
     "text": [
      "Warning message in readLines(file, encoding = encoding):\n",
      "“incomplete final line found on 'X2.csv'”"
     ]
    },
    {
     "data": {
      "text/html": [
       "<table>\n",
       "<thead><tr><th scope=col>V1</th><th scope=col>V2</th><th scope=col>V3</th><th scope=col>V4</th><th scope=col>V5</th></tr></thead>\n",
       "<tbody>\n",
       "\t<tr><td>A</td><td>B</td><td>C</td><td>D</td><td> </td></tr>\n",
       "\t<tr><td>A</td><td>C</td><td>D</td><td>F</td><td> </td></tr>\n",
       "\t<tr><td>C</td><td>D</td><td>E</td><td>G</td><td>A</td></tr>\n",
       "\t<tr><td>A</td><td>D</td><td>F</td><td>B</td><td> </td></tr>\n",
       "\t<tr><td>B</td><td>C</td><td>G</td><td> </td><td> </td></tr>\n",
       "\t<tr><td>D</td><td>F</td><td>G</td><td> </td><td> </td></tr>\n",
       "\t<tr><td>A</td><td>B</td><td>G</td><td> </td><td> </td></tr>\n",
       "\t<tr><td>C</td><td>D</td><td>F</td><td>G</td><td> </td></tr>\n",
       "</tbody>\n",
       "</table>\n"
      ],
      "text/latex": [
       "\\begin{tabular}{r|lllll}\n",
       " V1 & V2 & V3 & V4 & V5\\\\\n",
       "\\hline\n",
       "\t A & B & C & D &  \\\\\n",
       "\t A & C & D & F &  \\\\\n",
       "\t C & D & E & G & A\\\\\n",
       "\t A & D & F & B &  \\\\\n",
       "\t B & C & G &   &  \\\\\n",
       "\t D & F & G &   &  \\\\\n",
       "\t A & B & G &   &  \\\\\n",
       "\t C & D & F & G &  \\\\\n",
       "\\end{tabular}\n"
      ],
      "text/markdown": [
       "\n",
       "| V1 | V2 | V3 | V4 | V5 |\n",
       "|---|---|---|---|---|\n",
       "| A | B | C | D |   |\n",
       "| A | C | D | F |   |\n",
       "| C | D | E | G | A |\n",
       "| A | D | F | B |   |\n",
       "| B | C | G |   |   |\n",
       "| D | F | G |   |   |\n",
       "| A | B | G |   |   |\n",
       "| C | D | F | G |   |\n",
       "\n"
      ],
      "text/plain": [
       "  V1 V2 V3 V4 V5\n",
       "1 A  B  C  D    \n",
       "2 A  C  D  F    \n",
       "3 C  D  E  G  A \n",
       "4 A  D  F  B    \n",
       "5 B  C  G       \n",
       "6 D  F  G       \n",
       "7 A  B  G       \n",
       "8 C  D  F  G    "
      ]
     },
     "metadata": {},
     "output_type": "display_data"
    }
   ],
   "source": [
    "df1 <- read.csv('X2.csv', header=FALSE) # setting header to false to include first row\n",
    "\n",
    "#Reading data as transactions\n",
    "trans_x <- read.transactions(\"X2.csv\", format = \"basket\", sep = \",\", cols = NULL, header = FALSE)\n",
    "\n",
    "\n",
    "df1 #looking at the first few rows of the dataset to understand it"
   ]
  },
  {
   "cell_type": "markdown",
   "id": "dd6f9ece",
   "metadata": {},
   "source": [
    "###  a. Find all frequent itemsets in database "
   ]
  },
  {
   "cell_type": "markdown",
   "id": "8d61edd7",
   "metadata": {},
   "source": [
    "<img src=\"freq itemstets.png\">"
   ]
  },
  {
   "cell_type": "markdown",
   "id": "013268f1",
   "metadata": {},
   "source": [
    "#### This image shows the most frequent itemsets, which are the items that had support > min_support. The itemsets that contain 3 items will all be excluded as rules since they all have confidence = 1/8 = 12.5%\n"
   ]
  },
  {
   "cell_type": "markdown",
   "id": "6ce8d44c",
   "metadata": {},
   "source": [
    "### b. Find strong association rules for database "
   ]
  },
  {
   "cell_type": "markdown",
   "id": "828b1893",
   "metadata": {},
   "source": [
    "<img src=\"association-2 (dragged).tiff\">"
   ]
  },
  {
   "cell_type": "markdown",
   "id": "788f2fd7",
   "metadata": {},
   "source": [
    "<img src=\"association-3 (dragged).tiff\">"
   ]
  },
  {
   "cell_type": "markdown",
   "id": "9f2fc918",
   "metadata": {},
   "source": [
    "<img src=\"association-4 (dragged).tiff\">"
   ]
  },
  {
   "cell_type": "markdown",
   "id": "ebb0cf57",
   "metadata": {},
   "source": [
    "#### In the above images the support and confidence was checked for all the rules and the rules that passed both checks where circled in red. The result was a set of 24 rules:\n",
    " - 1 {A}   => {B}\n",
    " - 2 {A}   => {C}\n",
    " - 3 {A}   => {D}\n",
    " - 4 {B}   => {A}\n",
    " - 5 {C}   => {A}\n",
    " - 6 {C}   => {D}\n",
    " - 7 {C}   => {G}\n",
    " - 8 {D}   => {A}\n",
    " - 9 {D}   => {C}\n",
    " - 10 {D}   => {F}\n",
    " - 11 {F}   => {D}\n",
    " - 12 {G}   => {C}\n",
    " - 13 {G}   => {D}\n",
    " - 14 {A,B} => {D}\n",
    " - 15 {A,C} => {D}   \n",
    " - 16 {A,D} => {C}\n",
    " - 17 {A,F} => {D}\n",
    " - 18 {B,D} => {A}\n",
    " - 19 {C,D} => {A}\n",
    " - 20 {C,F} => {D}  \n",
    " - 21 {C,G} => {D}\n",
    " - 22 {D,G} => {C}\n",
    " - 23 {D,G} => {F}\n",
    " - 24 {F,G} => {D}"
   ]
  },
  {
   "cell_type": "markdown",
   "id": "4acb517e",
   "metadata": {},
   "source": [
    "### c. Analyze misleading associations for the rule set obtained in (b)."
   ]
  },
  {
   "cell_type": "markdown",
   "id": "e9def4b4",
   "metadata": {},
   "source": [
    "#### The rules that contain a pair {X,Y} -> Z can be misleading. For example, rule #11 indicates that when F is bought D is bought as well. So in rule #24 it is hard to tell whether D was bought purely because of F alone or because of F and G together. Similarily rule #23 is misleading, since it is hard to tell wheather F was bought because of D alone (rule #10) or because of D and G together. Some other rules like A -> B and  B -> A can also be misleading since this would make it hard to tell which item depends on the other.\n",
    "------------\n",
    "------------"
   ]
  },
  {
   "cell_type": "markdown",
   "id": "f5ec4857",
   "metadata": {},
   "source": [
    "> ### II."
   ]
  },
  {
   "cell_type": "code",
   "execution_count": 127,
   "id": "3abde7a1",
   "metadata": {
    "scrolled": true
   },
   "outputs": [
    {
     "name": "stderr",
     "output_type": "stream",
     "text": [
      "Warning message in asMethod(object):\n",
      "“removing duplicated items in transactions”"
     ]
    },
    {
     "data": {
      "text/html": [
       "<table>\n",
       "<thead><tr><th scope=col>V1</th><th scope=col>V2</th><th scope=col>V3</th><th scope=col>V4</th><th scope=col>V5</th><th scope=col>V6</th><th scope=col>V7</th><th scope=col>V8</th><th scope=col>V9</th><th scope=col>V10</th><th scope=col>V11</th><th scope=col>V12</th><th scope=col>V13</th><th scope=col>V14</th><th scope=col>V15</th><th scope=col>V16</th><th scope=col>V17</th><th scope=col>V18</th><th scope=col>V19</th><th scope=col>V20</th></tr></thead>\n",
       "<tbody>\n",
       "\t<tr><td>shrimp           </td><td>almonds          </td><td>avocado          </td><td>vegetables mix   </td><td>green grapes     </td><td>whole weat flour </td><td>yams             </td><td>cottage cheese   </td><td>energy drink     </td><td>tomato juice     </td><td>low fat yogurt   </td><td>green tea        </td><td>honey            </td><td>salad            </td><td>mineral water    </td><td>salmon           </td><td>antioxydant juice</td><td>frozen smoothie  </td><td>spinach          </td><td>olive oil        </td></tr>\n",
       "\t<tr><td>burgers          </td><td>meatballs        </td><td>eggs             </td><td>                 </td><td>                 </td><td>                 </td><td>                 </td><td>                 </td><td>                 </td><td>                 </td><td>                 </td><td>                 </td><td>                 </td><td>                 </td><td>                 </td><td>                 </td><td>                 </td><td>                 </td><td>                 </td><td>                 </td></tr>\n",
       "\t<tr><td>chutney          </td><td>                 </td><td>                 </td><td>                 </td><td>                 </td><td>                 </td><td>                 </td><td>                 </td><td>                 </td><td>                 </td><td>                 </td><td>                 </td><td>                 </td><td>                 </td><td>                 </td><td>                 </td><td>                 </td><td>                 </td><td>                 </td><td>                 </td></tr>\n",
       "\t<tr><td>turkey           </td><td>avocado          </td><td>                 </td><td>                 </td><td>                 </td><td>                 </td><td>                 </td><td>                 </td><td>                 </td><td>                 </td><td>                 </td><td>                 </td><td>                 </td><td>                 </td><td>                 </td><td>                 </td><td>                 </td><td>                 </td><td>                 </td><td>                 </td></tr>\n",
       "\t<tr><td>mineral water    </td><td>milk             </td><td>energy bar       </td><td>whole wheat rice </td><td>green tea        </td><td>                 </td><td>                 </td><td>                 </td><td>                 </td><td>                 </td><td>                 </td><td>                 </td><td>                 </td><td>                 </td><td>                 </td><td>                 </td><td>                 </td><td>                 </td><td>                 </td><td>                 </td></tr>\n",
       "</tbody>\n",
       "</table>\n"
      ],
      "text/latex": [
       "\\begin{tabular}{r|llllllllllllllllllll}\n",
       " V1 & V2 & V3 & V4 & V5 & V6 & V7 & V8 & V9 & V10 & V11 & V12 & V13 & V14 & V15 & V16 & V17 & V18 & V19 & V20\\\\\n",
       "\\hline\n",
       "\t shrimp            & almonds           & avocado           & vegetables mix    & green grapes      & whole weat flour  & yams              & cottage cheese    & energy drink      & tomato juice      & low fat yogurt    & green tea         & honey             & salad             & mineral water     & salmon            & antioxydant juice & frozen smoothie   & spinach           & olive oil        \\\\\n",
       "\t burgers           & meatballs         & eggs              &                   &                   &                   &                   &                   &                   &                   &                   &                   &                   &                   &                   &                   &                   &                   &                   &                  \\\\\n",
       "\t chutney           &                   &                   &                   &                   &                   &                   &                   &                   &                   &                   &                   &                   &                   &                   &                   &                   &                   &                   &                  \\\\\n",
       "\t turkey            & avocado           &                   &                   &                   &                   &                   &                   &                   &                   &                   &                   &                   &                   &                   &                   &                   &                   &                   &                  \\\\\n",
       "\t mineral water     & milk              & energy bar        & whole wheat rice  & green tea         &                   &                   &                   &                   &                   &                   &                   &                   &                   &                   &                   &                   &                   &                   &                  \\\\\n",
       "\\end{tabular}\n"
      ],
      "text/markdown": [
       "\n",
       "| V1 | V2 | V3 | V4 | V5 | V6 | V7 | V8 | V9 | V10 | V11 | V12 | V13 | V14 | V15 | V16 | V17 | V18 | V19 | V20 |\n",
       "|---|---|---|---|---|---|---|---|---|---|---|---|---|---|---|---|---|---|---|---|\n",
       "| shrimp            | almonds           | avocado           | vegetables mix    | green grapes      | whole weat flour  | yams              | cottage cheese    | energy drink      | tomato juice      | low fat yogurt    | green tea         | honey             | salad             | mineral water     | salmon            | antioxydant juice | frozen smoothie   | spinach           | olive oil         |\n",
       "| burgers           | meatballs         | eggs              |                   |                   |                   |                   |                   |                   |                   |                   |                   |                   |                   |                   |                   |                   |                   |                   |                   |\n",
       "| chutney           |                   |                   |                   |                   |                   |                   |                   |                   |                   |                   |                   |                   |                   |                   |                   |                   |                   |                   |                   |\n",
       "| turkey            | avocado           |                   |                   |                   |                   |                   |                   |                   |                   |                   |                   |                   |                   |                   |                   |                   |                   |                   |                   |\n",
       "| mineral water     | milk              | energy bar        | whole wheat rice  | green tea         |                   |                   |                   |                   |                   |                   |                   |                   |                   |                   |                   |                   |                   |                   |                   |\n",
       "\n"
      ],
      "text/plain": [
       "  V1            V2        V3         V4               V5          \n",
       "1 shrimp        almonds   avocado    vegetables mix   green grapes\n",
       "2 burgers       meatballs eggs                                    \n",
       "3 chutney                                                         \n",
       "4 turkey        avocado                                           \n",
       "5 mineral water milk      energy bar whole wheat rice green tea   \n",
       "  V6               V7   V8             V9           V10          V11           \n",
       "1 whole weat flour yams cottage cheese energy drink tomato juice low fat yogurt\n",
       "2                                                                              \n",
       "3                                                                              \n",
       "4                                                                              \n",
       "5                                                                              \n",
       "  V12       V13   V14   V15           V16    V17               V18            \n",
       "1 green tea honey salad mineral water salmon antioxydant juice frozen smoothie\n",
       "2                                                                             \n",
       "3                                                                             \n",
       "4                                                                             \n",
       "5                                                                             \n",
       "  V19     V20      \n",
       "1 spinach olive oil\n",
       "2                  \n",
       "3                  \n",
       "4                  \n",
       "5                  "
      ]
     },
     "metadata": {},
     "output_type": "display_data"
    }
   ],
   "source": [
    "df <- read.csv('transactions.csv', header=FALSE) # setting header to false to include first row\n",
    "\n",
    "#Reading data as transactions\n",
    "trans <- read.transactions(\"transactions.csv\", format = \"basket\", sep = \",\", cols = NULL,header = FALSE)\n",
    "\n",
    "\n",
    "head(df, 5) #looking at the first few rows of the dataset to understand it"
   ]
  },
  {
   "cell_type": "code",
   "execution_count": 124,
   "id": "174b5548",
   "metadata": {},
   "outputs": [
    {
     "name": "stdout",
     "output_type": "stream",
     "text": [
      "    items              \n",
      "[1] {almonds,          \n",
      "     antioxydant juice,\n",
      "     avocado,          \n",
      "     cottage cheese,   \n",
      "     energy drink,     \n",
      "     frozen smoothie,  \n",
      "     green grapes,     \n",
      "     green tea,        \n",
      "     honey,            \n",
      "     low fat yogurt,   \n",
      "     mineral water,    \n",
      "     olive oil,        \n",
      "     salad,            \n",
      "     salmon,           \n",
      "     shrimp,           \n",
      "     spinach,          \n",
      "     tomato juice,     \n",
      "     vegetables mix,   \n",
      "     whole weat flour, \n",
      "     yams}             \n",
      "[2] {burgers,          \n",
      "     eggs,             \n",
      "     meatballs}        \n",
      "[3] {chutney}          \n",
      "[4] {avocado,          \n",
      "     turkey}           \n",
      "[5] {energy bar,       \n",
      "     green tea,        \n",
      "     milk,             \n",
      "     mineral water,    \n",
      "     whole wheat rice} \n"
     ]
    }
   ],
   "source": [
    "inspect(trans[1:5])"
   ]
  },
  {
   "cell_type": "markdown",
   "id": "34cb3987",
   "metadata": {},
   "source": [
    "#### Comparing the first 5 transactions with what we see in the dataframe 'df', the df was successfully converted into transaction. The order of items just changed to alphabetic order in each transaction."
   ]
  },
  {
   "cell_type": "code",
   "execution_count": 126,
   "id": "ad21c44a",
   "metadata": {},
   "outputs": [
    {
     "data": {
      "text/plain": [
       "transactions as itemMatrix in sparse format with\n",
       " 7501 rows (elements/itemsets/transactions) and\n",
       " 119 columns (items) and a density of 0.03288973 \n",
       "\n",
       "most frequent items:\n",
       "mineral water          eggs     spaghetti  french fries     chocolate \n",
       "         1788          1348          1306          1282          1229 \n",
       "      (Other) \n",
       "        22405 \n",
       "\n",
       "element (itemset/transaction) length distribution:\n",
       "sizes\n",
       "   1    2    3    4    5    6    7    8    9   10   11   12   13   14   15   16 \n",
       "1754 1358 1044  816  667  493  391  324  259  139  102   67   40   22   17    4 \n",
       "  18   19   20 \n",
       "   1    2    1 \n",
       "\n",
       "   Min. 1st Qu.  Median    Mean 3rd Qu.    Max. \n",
       "  1.000   2.000   3.000   3.914   5.000  20.000 \n",
       "\n",
       "includes extended item information - examples:\n",
       "             labels\n",
       "1           almonds\n",
       "2 antioxydant juice\n",
       "3         asparagus"
      ]
     },
     "metadata": {},
     "output_type": "display_data"
    }
   ],
   "source": [
    "summary(trans)"
   ]
  },
  {
   "cell_type": "markdown",
   "id": "402a15ea",
   "metadata": {},
   "source": [
    "#### The dataset contains 7501 transactions. The top 5 frequent bought items are:\n",
    "####   -  mineral water\n",
    "####   - eggs\n",
    "####   - spaghetti\n",
    "####   - french fries\n",
    "####   - chocolate"
   ]
  },
  {
   "cell_type": "markdown",
   "id": "804a988b",
   "metadata": {},
   "source": [
    "*****"
   ]
  },
  {
   "cell_type": "markdown",
   "id": "c8cd89ca",
   "metadata": {},
   "source": [
    "### a. Generate a plot of the top 10 transactions."
   ]
  },
  {
   "cell_type": "code",
   "execution_count": 202,
   "id": "e04fcbe0",
   "metadata": {
    "scrolled": false
   },
   "outputs": [
    {
     "data": {
      "image/png": "[encoded data removed]",
      "text/plain": [
       "plot without title"
      ]
     },
     "metadata": {},
     "output_type": "display_data"
    }
   ],
   "source": [
    "#plot the frequency of items\n",
    "itemFrequencyPlot(trans, topN = 10)"
   ]
  },
  {
   "cell_type": "markdown",
   "id": "905fcf20",
   "metadata": {},
   "source": [
    "#### Top 10 frequently bought items represented on a bar graph"
   ]
  },
  {
   "cell_type": "code",
   "execution_count": 209,
   "id": "e845161c",
   "metadata": {},
   "outputs": [
    {
     "data": {
      "image/png": "[encoded data removed]",
      "text/plain": [
       "plot without title"
      ]
     },
     "metadata": {},
     "output_type": "display_data"
    }
   ],
   "source": [
    "image(sample(trans, 10))"
   ]
  },
  {
   "cell_type": "markdown",
   "id": "9483696d",
   "metadata": {},
   "source": [
    "#### A sample of 10 transactions from the dataset"
   ]
  },
  {
   "cell_type": "markdown",
   "id": "fe838c11",
   "metadata": {},
   "source": [
    "### b. Generate association rules using minimum support of 0.002, minimum confidence of 0.20,and maximum length of 3. Display the rules, sorted by descending lift value."
   ]
  },
  {
   "cell_type": "code",
   "execution_count": 203,
   "id": "942bd550",
   "metadata": {
    "scrolled": false
   },
   "outputs": [
    {
     "name": "stdout",
     "output_type": "stream",
     "text": [
      "Apriori\n",
      "\n",
      "Parameter specification:\n",
      " confidence minval smax arem  aval originalSupport maxtime support minlen\n",
      "        0.2    0.1    1 none FALSE            TRUE       5   0.002      1\n",
      " maxlen target   ext\n",
      "      3  rules FALSE\n",
      "\n",
      "Algorithmic control:\n",
      " filter tree heap memopt load sort verbose\n",
      "    0.1 TRUE TRUE  FALSE TRUE    2    TRUE\n",
      "\n",
      "Absolute minimum support count: 15 \n",
      "\n",
      "set item appearances ...[0 item(s)] done [0.00s].\n",
      "set transactions ...[119 item(s), 7501 transaction(s)] done [0.00s].\n",
      "sorting and recoding items ... [115 item(s)] done [0.00s].\n",
      "creating transaction tree ... done [0.00s].\n",
      "checking subsets of size 1 2 3"
     ]
    },
    {
     "name": "stderr",
     "output_type": "stream",
     "text": [
      "Warning message in apriori(trans, parameter = list(support = 0.002, confidence = 0.2, :\n",
      "“Mining stopped (maxlen reached). Only patterns up to a length of 3 returned!”"
     ]
    },
    {
     "name": "stdout",
     "output_type": "stream",
     "text": [
      " done [0.00s].\n",
      "writing ... [2023 rule(s)] done [0.00s].\n",
      "creating S4 object  ... done [0.00s].\n"
     ]
    },
    {
     "data": {
      "text/plain": [
       "set of 2023 rules "
      ]
     },
     "metadata": {},
     "output_type": "display_data"
    }
   ],
   "source": [
    "# set better support and confidence levels to learn more rules\n",
    "trules <- apriori(trans, parameter = list(support = 0.002, confidence = 0.20, maxlen = 3))\n",
    "trules"
   ]
  },
  {
   "cell_type": "code",
   "execution_count": 204,
   "id": "8aa98d80",
   "metadata": {
    "scrolled": false
   },
   "outputs": [
    {
     "name": "stdout",
     "output_type": "stream",
     "text": [
      "     lhs                                    rhs                    support    \n",
      "[1]  {escalope,mushroom cream sauce}     => {pasta}                0.002532996\n",
      "[2]  {escalope,pasta}                    => {mushroom cream sauce} 0.002532996\n",
      "[3]  {mushroom cream sauce,pasta}        => {escalope}             0.002532996\n",
      "[4]  {parmesan cheese,tomatoes}          => {frozen vegetables}    0.002133049\n",
      "[5]  {mineral water,whole wheat pasta}   => {olive oil}            0.003866151\n",
      "[6]  {frozen vegetables,parmesan cheese} => {tomatoes}             0.002133049\n",
      "[7]  {burgers,herb & pepper}             => {ground beef}          0.002266364\n",
      "[8]  {light cream,mineral water}         => {chicken}              0.002399680\n",
      "[9]  {ground beef,shrimp}                => {herb & pepper}        0.002932942\n",
      "[10] {fromage blanc}                     => {honey}                0.003332889\n",
      "     confidence lift      count\n",
      "[1]  0.4418605  28.088096 19   \n",
      "[2]  0.4318182  22.650826 19   \n",
      "[3]  0.9500000  11.976387 19   \n",
      "[4]  0.6666667   6.993939 16   \n",
      "[5]  0.4027778   6.115863 29   \n",
      "[6]  0.3902439   5.706081 16   \n",
      "[7]  0.5483871   5.581345 17   \n",
      "[8]  0.3272727   5.455273 18   \n",
      "[9]  0.2558140   5.172131 22   \n",
      "[10] 0.2450980   5.164271 25   \n"
     ]
    }
   ],
   "source": [
    "# look at the first ten rules based on lift\n",
    "#inspect(trules[1:5])\n",
    "inspect(sort(trules, by = \"lift\")[1:10])"
   ]
  },
  {
   "cell_type": "markdown",
   "id": "558af54f",
   "metadata": {},
   "source": [
    "#### The following are the top ten strongest association rules with regards to the lift:\n",
    " - #### {escalope,mushroom cream sauce}     => {pasta}               \n",
    " - ####  {escalope,pasta}                    => {mushroom cream sauce} \n",
    " - ####  {mushroom cream sauce,pasta}        => {escalope}           \n",
    " - #### {parmesan cheese,tomatoes}          => {frozen vegetables}  \n",
    " - #### {mineral water,whole wheat pasta}   => {olive oil}            \n",
    " - #### {frozen vegetables,parmesan cheese} => {tomatoes}             \n",
    " - ####  {burgers,herb & pepper}             => {ground beef}          \n",
    " - ####  {light cream,mineral water}         => {chicken}              \n",
    " - ####  {ground beef,shrimp}                => {herb & pepper}        \n",
    " - #### {fromage blanc}                     => {honey} "
   ]
  },
  {
   "cell_type": "markdown",
   "id": "cd5fb870",
   "metadata": {},
   "source": [
    "### c. Select the rule from Q1with the greatest lift. Compare this rule withthe highest lift rule for maximum length of 2."
   ]
  },
  {
   "cell_type": "code",
   "execution_count": 205,
   "id": "dc33b556",
   "metadata": {
    "scrolled": false
   },
   "outputs": [
    {
     "name": "stdout",
     "output_type": "stream",
     "text": [
      "Apriori\n",
      "\n",
      "Parameter specification:\n",
      " confidence minval smax arem  aval originalSupport maxtime support minlen\n",
      "        0.2    0.1    1 none FALSE            TRUE       5   0.002      1\n",
      " maxlen target   ext\n",
      "      2  rules FALSE\n",
      "\n",
      "Algorithmic control:\n",
      " filter tree heap memopt load sort verbose\n",
      "    0.1 TRUE TRUE  FALSE TRUE    2    TRUE\n",
      "\n",
      "Absolute minimum support count: 15 \n",
      "\n",
      "set item appearances ...[0 item(s)] done [0.00s].\n",
      "set transactions ...[119 item(s), 7501 transaction(s)] done [0.00s].\n",
      "sorting and recoding items ... [115 item(s)] done [0.00s].\n",
      "creating transaction tree ... done [0.00s].\n",
      "checking subsets of size 1 2"
     ]
    },
    {
     "name": "stderr",
     "output_type": "stream",
     "text": [
      "Warning message in apriori(trans, parameter = list(support = 0.002, confidence = 0.2, :\n",
      "“Mining stopped (maxlen reached). Only patterns up to a length of 2 returned!”"
     ]
    },
    {
     "name": "stdout",
     "output_type": "stream",
     "text": [
      " done [0.01s].\n",
      "writing ... [358 rule(s)] done [0.00s].\n",
      "creating S4 object  ... done [0.00s].\n",
      "    lhs                rhs        support     confidence lift     count\n",
      "[1] {fromage blanc} => {honey}    0.003332889 0.2450980  5.164271 25   \n",
      "[2] {light cream}   => {chicken}  0.004532729 0.2905983  4.843951 34   \n",
      "[3] {pasta}         => {escalope} 0.005865885 0.3728814  4.700812 44   \n"
     ]
    }
   ],
   "source": [
    "trules2 <- apriori(trans, parameter = list(support = 0.002, confidence = 0.20, maxlen = 2))\n",
    "inspect(sort(trules2, by = \"lift\")[1:3])"
   ]
  },
  {
   "cell_type": "markdown",
   "id": "2fb8e31d",
   "metadata": {},
   "source": [
    ">    |  | Q1 | Q2 |\n",
    "| --- | --- | --- |\n",
    "| Rule | escalope, mushroom cream sauce => pasta | fromage blanc => honey |\n",
    "| Lift | 28.088096 | 5.164271 |\n",
    "| Support | 0.002532996 | 0.003332889 |"
   ]
  },
  {
   "cell_type": "markdown",
   "id": "57c62b74",
   "metadata": {},
   "source": [
    "#### According to the table the rule from question 1 has the higher lift, but the rule from question 2 has the higher support. If I was a marketing manager, I would go with the first rule since it has a much greater lift. Also the lift takes into consideration the support as well.  \n",
    " - #### $Lift = support / (support(LHS) * support(RHS))$"
   ]
  },
  {
   "cell_type": "markdown",
   "id": "7025abbd",
   "metadata": {},
   "source": [
    "## Part B Model Evaluation & Performance Improvement: "
   ]
  },
  {
   "cell_type": "markdown",
   "id": "b2df4fcd",
   "metadata": {},
   "source": [
    "### a. First consider a user-based collaborative filter. This requires computing correlations between all student pairs. For which students is it possible to compute correlations with E.N.? Compute them."
   ]
  },
  {
   "cell_type": "markdown",
   "id": "4dc92927",
   "metadata": {},
   "source": [
    "<img src=\"user based cf-1 (dragged).tiff\">"
   ]
  },
  {
   "cell_type": "markdown",
   "id": "feaeeeeb",
   "metadata": {},
   "source": [
    "#### First the average rating for each user was calculated as seen on the left side. Then the correllation between each student was calculated."
   ]
  },
  {
   "cell_type": "markdown",
   "id": "1aee0eac",
   "metadata": {},
   "source": [
    "<img src=\"user based cf-2 (dragged).tiff\">"
   ]
  },
  {
   "cell_type": "markdown",
   "id": "6eb4d0cb",
   "metadata": {},
   "source": [
    "#### All correlations that include JH, DU, FL, GL, AH, SA, BA, RW, MG, AF, and KG are = 0"
   ]
  },
  {
   "cell_type": "markdown",
   "id": "deec0fda",
   "metadata": {},
   "source": [
    "<img src=\"user based cf-3 (dragged).tiff\">"
   ]
  },
  {
   "cell_type": "markdown",
   "id": "0a32cfd5",
   "metadata": {},
   "source": [
    "### b. Based on the single nearest student to E.N., which single course should we recommend to E.N.? Explain why."
   ]
  },
  {
   "cell_type": "markdown",
   "id": "106d4ef0",
   "metadata": {},
   "source": [
    "#### The student with the highest correlation with EN was LN with a correlation of 0.87. The course with the highest rating that LN took and EN did not take was Python. LN gave Python a rating of 3. Therefore, I would recommend the Python course to EN based on LN's rating."
   ]
  },
  {
   "cell_type": "markdown",
   "id": "1a592843",
   "metadata": {},
   "source": [
    "### c. Use R to compute the cosine similarity between users. "
   ]
  },
  {
   "cell_type": "code",
   "execution_count": 218,
   "id": "44489e82",
   "metadata": {
    "scrolled": false
   },
   "outputs": [
    {
     "data": {
      "text/html": [
       "<table>\n",
       "<thead><tr><th scope=col>Student</th><th scope=col>SQL</th><th scope=col>Spatial</th><th scope=col>PA.1</th><th scope=col>DM.in.R</th><th scope=col>Python</th><th scope=col>Forecast</th><th scope=col>R.prog</th><th scope=col>Hadoop</th><th scope=col>Regression</th></tr></thead>\n",
       "<tbody>\n",
       "\t<tr><td>LN</td><td> 4</td><td>NA</td><td>NA</td><td>NA</td><td> 3</td><td> 2</td><td> 4</td><td>NA</td><td> 2</td></tr>\n",
       "\t<tr><td>MH</td><td> 3</td><td> 4</td><td>NA</td><td>NA</td><td> 4</td><td>NA</td><td>NA</td><td>NA</td><td>NA</td></tr>\n",
       "\t<tr><td>JH</td><td> 2</td><td> 2</td><td>NA</td><td>NA</td><td>NA</td><td>NA</td><td>NA</td><td>NA</td><td>NA</td></tr>\n",
       "\t<tr><td>EN</td><td> 4</td><td>NA</td><td>NA</td><td> 4</td><td>NA</td><td>NA</td><td> 4</td><td>NA</td><td> 3</td></tr>\n",
       "\t<tr><td>DU</td><td> 4</td><td> 4</td><td>NA</td><td>NA</td><td>NA</td><td>NA</td><td>NA</td><td>NA</td><td>NA</td></tr>\n",
       "\t<tr><td>FL</td><td>NA</td><td> 4</td><td>NA</td><td>NA</td><td>NA</td><td>NA</td><td>NA</td><td>NA</td><td>NA</td></tr>\n",
       "\t<tr><td>GL</td><td>NA</td><td> 4</td><td>NA</td><td>NA</td><td>NA</td><td>NA</td><td>NA</td><td>NA</td><td>NA</td></tr>\n",
       "\t<tr><td>AH</td><td>NA</td><td> 3</td><td>NA</td><td>NA</td><td>NA</td><td>NA</td><td>NA</td><td>NA</td><td>NA</td></tr>\n",
       "\t<tr><td>SA</td><td>NA</td><td>NA</td><td> 4</td><td>NA</td><td>NA</td><td>NA</td><td>NA</td><td>NA</td><td>NA</td></tr>\n",
       "\t<tr><td>RW</td><td>NA</td><td>NA</td><td> 2</td><td>NA</td><td>NA</td><td>NA</td><td>NA</td><td>NA</td><td> 4</td></tr>\n",
       "\t<tr><td>BA</td><td>NA</td><td>NA</td><td> 4</td><td>NA</td><td>NA</td><td>NA</td><td>NA</td><td>NA</td><td>NA</td></tr>\n",
       "\t<tr><td>MG</td><td>NA</td><td>NA</td><td> 4</td><td>NA</td><td>NA</td><td> 4</td><td>NA</td><td>NA</td><td>NA</td></tr>\n",
       "\t<tr><td>AF</td><td>NA</td><td>NA</td><td> 4</td><td>NA</td><td>NA</td><td>NA</td><td>NA</td><td>NA</td><td>NA</td></tr>\n",
       "\t<tr><td>KG</td><td>NA</td><td>NA</td><td> 3</td><td>NA</td><td>NA</td><td>NA</td><td>NA</td><td>NA</td><td>NA</td></tr>\n",
       "\t<tr><td>DS</td><td> 4</td><td>NA</td><td>NA</td><td> 2</td><td>NA</td><td>NA</td><td>NA</td><td>NA</td><td> 4</td></tr>\n",
       "</tbody>\n",
       "</table>\n"
      ],
      "text/latex": [
       "\\begin{tabular}{r|llllllllll}\n",
       " Student & SQL & Spatial & PA.1 & DM.in.R & Python & Forecast & R.prog & Hadoop & Regression\\\\\n",
       "\\hline\n",
       "\t LN &  4 & NA & NA & NA &  3 &  2 &  4 & NA &  2\\\\\n",
       "\t MH &  3 &  4 & NA & NA &  4 & NA & NA & NA & NA\\\\\n",
       "\t JH &  2 &  2 & NA & NA & NA & NA & NA & NA & NA\\\\\n",
       "\t EN &  4 & NA & NA &  4 & NA & NA &  4 & NA &  3\\\\\n",
       "\t DU &  4 &  4 & NA & NA & NA & NA & NA & NA & NA\\\\\n",
       "\t FL & NA &  4 & NA & NA & NA & NA & NA & NA & NA\\\\\n",
       "\t GL & NA &  4 & NA & NA & NA & NA & NA & NA & NA\\\\\n",
       "\t AH & NA &  3 & NA & NA & NA & NA & NA & NA & NA\\\\\n",
       "\t SA & NA & NA &  4 & NA & NA & NA & NA & NA & NA\\\\\n",
       "\t RW & NA & NA &  2 & NA & NA & NA & NA & NA &  4\\\\\n",
       "\t BA & NA & NA &  4 & NA & NA & NA & NA & NA & NA\\\\\n",
       "\t MG & NA & NA &  4 & NA & NA &  4 & NA & NA & NA\\\\\n",
       "\t AF & NA & NA &  4 & NA & NA & NA & NA & NA & NA\\\\\n",
       "\t KG & NA & NA &  3 & NA & NA & NA & NA & NA & NA\\\\\n",
       "\t DS &  4 & NA & NA &  2 & NA & NA & NA & NA &  4\\\\\n",
       "\\end{tabular}\n"
      ],
      "text/markdown": [
       "\n",
       "| Student | SQL | Spatial | PA.1 | DM.in.R | Python | Forecast | R.prog | Hadoop | Regression |\n",
       "|---|---|---|---|---|---|---|---|---|---|\n",
       "| LN |  4 | NA | NA | NA |  3 |  2 |  4 | NA |  2 |\n",
       "| MH |  3 |  4 | NA | NA |  4 | NA | NA | NA | NA |\n",
       "| JH |  2 |  2 | NA | NA | NA | NA | NA | NA | NA |\n",
       "| EN |  4 | NA | NA |  4 | NA | NA |  4 | NA |  3 |\n",
       "| DU |  4 |  4 | NA | NA | NA | NA | NA | NA | NA |\n",
       "| FL | NA |  4 | NA | NA | NA | NA | NA | NA | NA |\n",
       "| GL | NA |  4 | NA | NA | NA | NA | NA | NA | NA |\n",
       "| AH | NA |  3 | NA | NA | NA | NA | NA | NA | NA |\n",
       "| SA | NA | NA |  4 | NA | NA | NA | NA | NA | NA |\n",
       "| RW | NA | NA |  2 | NA | NA | NA | NA | NA |  4 |\n",
       "| BA | NA | NA |  4 | NA | NA | NA | NA | NA | NA |\n",
       "| MG | NA | NA |  4 | NA | NA |  4 | NA | NA | NA |\n",
       "| AF | NA | NA |  4 | NA | NA | NA | NA | NA | NA |\n",
       "| KG | NA | NA |  3 | NA | NA | NA | NA | NA | NA |\n",
       "| DS |  4 | NA | NA |  2 | NA | NA | NA | NA |  4 |\n",
       "\n"
      ],
      "text/plain": [
       "   Student SQL Spatial PA.1 DM.in.R Python Forecast R.prog Hadoop Regression\n",
       "1  LN       4  NA      NA   NA       3      2        4     NA      2        \n",
       "2  MH       3   4      NA   NA       4     NA       NA     NA     NA        \n",
       "3  JH       2   2      NA   NA      NA     NA       NA     NA     NA        \n",
       "4  EN       4  NA      NA    4      NA     NA        4     NA      3        \n",
       "5  DU       4   4      NA   NA      NA     NA       NA     NA     NA        \n",
       "6  FL      NA   4      NA   NA      NA     NA       NA     NA     NA        \n",
       "7  GL      NA   4      NA   NA      NA     NA       NA     NA     NA        \n",
       "8  AH      NA   3      NA   NA      NA     NA       NA     NA     NA        \n",
       "9  SA      NA  NA       4   NA      NA     NA       NA     NA     NA        \n",
       "10 RW      NA  NA       2   NA      NA     NA       NA     NA      4        \n",
       "11 BA      NA  NA       4   NA      NA     NA       NA     NA     NA        \n",
       "12 MG      NA  NA       4   NA      NA      4       NA     NA     NA        \n",
       "13 AF      NA  NA       4   NA      NA     NA       NA     NA     NA        \n",
       "14 KG      NA  NA       3   NA      NA     NA       NA     NA     NA        \n",
       "15 DS       4  NA      NA    2      NA     NA       NA     NA      4        "
      ]
     },
     "metadata": {},
     "output_type": "display_data"
    }
   ],
   "source": [
    "ratings <- read.csv('ratings.csv')\n",
    "ratings"
   ]
  },
  {
   "cell_type": "code",
   "execution_count": 245,
   "id": "ecf2b54f",
   "metadata": {},
   "outputs": [
    {
     "data": {
      "text/html": [
       "<table>\n",
       "<thead><tr><th scope=col>Student</th><th scope=col>SQL</th><th scope=col>Spatial</th><th scope=col>PA.1</th><th scope=col>DM.in.R</th><th scope=col>Python</th><th scope=col>Forecast</th><th scope=col>R.prog</th><th scope=col>Hadoop</th><th scope=col>Regression</th></tr></thead>\n",
       "<tbody>\n",
       "\t<tr><td>11</td><td> 4</td><td>NA</td><td>NA</td><td>NA</td><td> 3</td><td> 2</td><td> 4</td><td>NA</td><td> 2</td></tr>\n",
       "\t<tr><td>13</td><td> 3</td><td> 4</td><td>NA</td><td>NA</td><td> 4</td><td>NA</td><td>NA</td><td>NA</td><td>NA</td></tr>\n",
       "\t<tr><td> 9</td><td> 2</td><td> 2</td><td>NA</td><td>NA</td><td>NA</td><td>NA</td><td>NA</td><td>NA</td><td>NA</td></tr>\n",
       "\t<tr><td> 6</td><td> 4</td><td>NA</td><td>NA</td><td> 4</td><td>NA</td><td>NA</td><td> 4</td><td>NA</td><td> 3</td></tr>\n",
       "\t<tr><td> 5</td><td> 4</td><td> 4</td><td>NA</td><td>NA</td><td>NA</td><td>NA</td><td>NA</td><td>NA</td><td>NA</td></tr>\n",
       "\t<tr><td> 7</td><td>NA</td><td> 4</td><td>NA</td><td>NA</td><td>NA</td><td>NA</td><td>NA</td><td>NA</td><td>NA</td></tr>\n",
       "\t<tr><td> 8</td><td>NA</td><td> 4</td><td>NA</td><td>NA</td><td>NA</td><td>NA</td><td>NA</td><td>NA</td><td>NA</td></tr>\n",
       "\t<tr><td> 2</td><td>NA</td><td> 3</td><td>NA</td><td>NA</td><td>NA</td><td>NA</td><td>NA</td><td>NA</td><td>NA</td></tr>\n",
       "\t<tr><td>15</td><td>NA</td><td>NA</td><td> 4</td><td>NA</td><td>NA</td><td>NA</td><td>NA</td><td>NA</td><td>NA</td></tr>\n",
       "\t<tr><td>14</td><td>NA</td><td>NA</td><td> 2</td><td>NA</td><td>NA</td><td>NA</td><td>NA</td><td>NA</td><td> 4</td></tr>\n",
       "\t<tr><td> 3</td><td>NA</td><td>NA</td><td> 4</td><td>NA</td><td>NA</td><td>NA</td><td>NA</td><td>NA</td><td>NA</td></tr>\n",
       "\t<tr><td>12</td><td>NA</td><td>NA</td><td> 4</td><td>NA</td><td>NA</td><td> 4</td><td>NA</td><td>NA</td><td>NA</td></tr>\n",
       "\t<tr><td> 1</td><td>NA</td><td>NA</td><td> 4</td><td>NA</td><td>NA</td><td>NA</td><td>NA</td><td>NA</td><td>NA</td></tr>\n",
       "\t<tr><td>10</td><td>NA</td><td>NA</td><td> 3</td><td>NA</td><td>NA</td><td>NA</td><td>NA</td><td>NA</td><td>NA</td></tr>\n",
       "\t<tr><td> 4</td><td> 4</td><td>NA</td><td>NA</td><td> 2</td><td>NA</td><td>NA</td><td>NA</td><td>NA</td><td> 4</td></tr>\n",
       "</tbody>\n",
       "</table>\n"
      ],
      "text/latex": [
       "\\begin{tabular}{llllllllll}\n",
       " Student & SQL & Spatial & PA.1 & DM.in.R & Python & Forecast & R.prog & Hadoop & Regression\\\\\n",
       "\\hline\n",
       "\t 11 &  4 & NA & NA & NA &  3 &  2 &  4 & NA &  2\\\\\n",
       "\t 13 &  3 &  4 & NA & NA &  4 & NA & NA & NA & NA\\\\\n",
       "\t  9 &  2 &  2 & NA & NA & NA & NA & NA & NA & NA\\\\\n",
       "\t  6 &  4 & NA & NA &  4 & NA & NA &  4 & NA &  3\\\\\n",
       "\t  5 &  4 &  4 & NA & NA & NA & NA & NA & NA & NA\\\\\n",
       "\t  7 & NA &  4 & NA & NA & NA & NA & NA & NA & NA\\\\\n",
       "\t  8 & NA &  4 & NA & NA & NA & NA & NA & NA & NA\\\\\n",
       "\t  2 & NA &  3 & NA & NA & NA & NA & NA & NA & NA\\\\\n",
       "\t 15 & NA & NA &  4 & NA & NA & NA & NA & NA & NA\\\\\n",
       "\t 14 & NA & NA &  2 & NA & NA & NA & NA & NA &  4\\\\\n",
       "\t  3 & NA & NA &  4 & NA & NA & NA & NA & NA & NA\\\\\n",
       "\t 12 & NA & NA &  4 & NA & NA &  4 & NA & NA & NA\\\\\n",
       "\t  1 & NA & NA &  4 & NA & NA & NA & NA & NA & NA\\\\\n",
       "\t 10 & NA & NA &  3 & NA & NA & NA & NA & NA & NA\\\\\n",
       "\t  4 &  4 & NA & NA &  2 & NA & NA & NA & NA &  4\\\\\n",
       "\\end{tabular}\n"
      ],
      "text/markdown": [
       "\n",
       "| Student | SQL | Spatial | PA.1 | DM.in.R | Python | Forecast | R.prog | Hadoop | Regression |\n",
       "|---|---|---|---|---|---|---|---|---|---|\n",
       "| 11 |  4 | NA | NA | NA |  3 |  2 |  4 | NA |  2 |\n",
       "| 13 |  3 |  4 | NA | NA |  4 | NA | NA | NA | NA |\n",
       "|  9 |  2 |  2 | NA | NA | NA | NA | NA | NA | NA |\n",
       "|  6 |  4 | NA | NA |  4 | NA | NA |  4 | NA |  3 |\n",
       "|  5 |  4 |  4 | NA | NA | NA | NA | NA | NA | NA |\n",
       "|  7 | NA |  4 | NA | NA | NA | NA | NA | NA | NA |\n",
       "|  8 | NA |  4 | NA | NA | NA | NA | NA | NA | NA |\n",
       "|  2 | NA |  3 | NA | NA | NA | NA | NA | NA | NA |\n",
       "| 15 | NA | NA |  4 | NA | NA | NA | NA | NA | NA |\n",
       "| 14 | NA | NA |  2 | NA | NA | NA | NA | NA |  4 |\n",
       "|  3 | NA | NA |  4 | NA | NA | NA | NA | NA | NA |\n",
       "| 12 | NA | NA |  4 | NA | NA |  4 | NA | NA | NA |\n",
       "|  1 | NA | NA |  4 | NA | NA | NA | NA | NA | NA |\n",
       "| 10 | NA | NA |  3 | NA | NA | NA | NA | NA | NA |\n",
       "|  4 |  4 | NA | NA |  2 | NA | NA | NA | NA |  4 |\n",
       "\n"
      ],
      "text/plain": [
       "      Student SQL Spatial PA.1 DM.in.R Python Forecast R.prog Hadoop Regression\n",
       " [1,] 11       4  NA      NA   NA       3      2        4     NA      2        \n",
       " [2,] 13       3   4      NA   NA       4     NA       NA     NA     NA        \n",
       " [3,]  9       2   2      NA   NA      NA     NA       NA     NA     NA        \n",
       " [4,]  6       4  NA      NA    4      NA     NA        4     NA      3        \n",
       " [5,]  5       4   4      NA   NA      NA     NA       NA     NA     NA        \n",
       " [6,]  7      NA   4      NA   NA      NA     NA       NA     NA     NA        \n",
       " [7,]  8      NA   4      NA   NA      NA     NA       NA     NA     NA        \n",
       " [8,]  2      NA   3      NA   NA      NA     NA       NA     NA     NA        \n",
       " [9,] 15      NA  NA       4   NA      NA     NA       NA     NA     NA        \n",
       "[10,] 14      NA  NA       2   NA      NA     NA       NA     NA      4        \n",
       "[11,]  3      NA  NA       4   NA      NA     NA       NA     NA     NA        \n",
       "[12,] 12      NA  NA       4   NA      NA      4       NA     NA     NA        \n",
       "[13,]  1      NA  NA       4   NA      NA     NA       NA     NA     NA        \n",
       "[14,] 10      NA  NA       3   NA      NA     NA       NA     NA     NA        \n",
       "[15,]  4       4  NA      NA    2      NA     NA       NA     NA      4        "
      ]
     },
     "metadata": {},
     "output_type": "display_data"
    }
   ],
   "source": [
    "ratings_m <- data.matrix(ratings, rownames.force = NA) #convert df to matrix\n",
    "ratings_m"
   ]
  },
  {
   "cell_type": "code",
   "execution_count": 224,
   "id": "4ec23b09",
   "metadata": {
    "scrolled": false
   },
   "outputs": [
    {
     "data": {
      "text/html": [
       "<table>\n",
       "<thead><tr><th scope=col>SQL</th><th scope=col>Spatial</th><th scope=col>PA.1</th><th scope=col>DM.in.R</th><th scope=col>Python</th><th scope=col>Forecast</th><th scope=col>R.prog</th><th scope=col>Hadoop</th><th scope=col>Regression</th></tr></thead>\n",
       "<tbody>\n",
       "\t<tr><td> 4</td><td>NA</td><td>NA</td><td>NA</td><td> 3</td><td> 2</td><td> 4</td><td>NA</td><td> 2</td></tr>\n",
       "\t<tr><td> 3</td><td> 4</td><td>NA</td><td>NA</td><td> 4</td><td>NA</td><td>NA</td><td>NA</td><td>NA</td></tr>\n",
       "\t<tr><td> 2</td><td> 2</td><td>NA</td><td>NA</td><td>NA</td><td>NA</td><td>NA</td><td>NA</td><td>NA</td></tr>\n",
       "\t<tr><td> 4</td><td>NA</td><td>NA</td><td> 4</td><td>NA</td><td>NA</td><td> 4</td><td>NA</td><td> 3</td></tr>\n",
       "\t<tr><td> 4</td><td> 4</td><td>NA</td><td>NA</td><td>NA</td><td>NA</td><td>NA</td><td>NA</td><td>NA</td></tr>\n",
       "\t<tr><td>NA</td><td> 4</td><td>NA</td><td>NA</td><td>NA</td><td>NA</td><td>NA</td><td>NA</td><td>NA</td></tr>\n",
       "\t<tr><td>NA</td><td> 4</td><td>NA</td><td>NA</td><td>NA</td><td>NA</td><td>NA</td><td>NA</td><td>NA</td></tr>\n",
       "\t<tr><td>NA</td><td> 3</td><td>NA</td><td>NA</td><td>NA</td><td>NA</td><td>NA</td><td>NA</td><td>NA</td></tr>\n",
       "\t<tr><td>NA</td><td>NA</td><td> 4</td><td>NA</td><td>NA</td><td>NA</td><td>NA</td><td>NA</td><td>NA</td></tr>\n",
       "\t<tr><td>NA</td><td>NA</td><td> 2</td><td>NA</td><td>NA</td><td>NA</td><td>NA</td><td>NA</td><td> 4</td></tr>\n",
       "\t<tr><td>NA</td><td>NA</td><td> 4</td><td>NA</td><td>NA</td><td>NA</td><td>NA</td><td>NA</td><td>NA</td></tr>\n",
       "\t<tr><td>NA</td><td>NA</td><td> 4</td><td>NA</td><td>NA</td><td> 4</td><td>NA</td><td>NA</td><td>NA</td></tr>\n",
       "\t<tr><td>NA</td><td>NA</td><td> 4</td><td>NA</td><td>NA</td><td>NA</td><td>NA</td><td>NA</td><td>NA</td></tr>\n",
       "\t<tr><td>NA</td><td>NA</td><td> 3</td><td>NA</td><td>NA</td><td>NA</td><td>NA</td><td>NA</td><td>NA</td></tr>\n",
       "\t<tr><td> 4</td><td>NA</td><td>NA</td><td> 2</td><td>NA</td><td>NA</td><td>NA</td><td>NA</td><td> 4</td></tr>\n",
       "</tbody>\n",
       "</table>\n"
      ],
      "text/latex": [
       "\\begin{tabular}{lllllllll}\n",
       " SQL & Spatial & PA.1 & DM.in.R & Python & Forecast & R.prog & Hadoop & Regression\\\\\n",
       "\\hline\n",
       "\t  4 & NA & NA & NA &  3 &  2 &  4 & NA &  2\\\\\n",
       "\t  3 &  4 & NA & NA &  4 & NA & NA & NA & NA\\\\\n",
       "\t  2 &  2 & NA & NA & NA & NA & NA & NA & NA\\\\\n",
       "\t  4 & NA & NA &  4 & NA & NA &  4 & NA &  3\\\\\n",
       "\t  4 &  4 & NA & NA & NA & NA & NA & NA & NA\\\\\n",
       "\t NA &  4 & NA & NA & NA & NA & NA & NA & NA\\\\\n",
       "\t NA &  4 & NA & NA & NA & NA & NA & NA & NA\\\\\n",
       "\t NA &  3 & NA & NA & NA & NA & NA & NA & NA\\\\\n",
       "\t NA & NA &  4 & NA & NA & NA & NA & NA & NA\\\\\n",
       "\t NA & NA &  2 & NA & NA & NA & NA & NA &  4\\\\\n",
       "\t NA & NA &  4 & NA & NA & NA & NA & NA & NA\\\\\n",
       "\t NA & NA &  4 & NA & NA &  4 & NA & NA & NA\\\\\n",
       "\t NA & NA &  4 & NA & NA & NA & NA & NA & NA\\\\\n",
       "\t NA & NA &  3 & NA & NA & NA & NA & NA & NA\\\\\n",
       "\t  4 & NA & NA &  2 & NA & NA & NA & NA &  4\\\\\n",
       "\\end{tabular}\n"
      ],
      "text/markdown": [
       "\n",
       "| SQL | Spatial | PA.1 | DM.in.R | Python | Forecast | R.prog | Hadoop | Regression |\n",
       "|---|---|---|---|---|---|---|---|---|\n",
       "|  4 | NA | NA | NA |  3 |  2 |  4 | NA |  2 |\n",
       "|  3 |  4 | NA | NA |  4 | NA | NA | NA | NA |\n",
       "|  2 |  2 | NA | NA | NA | NA | NA | NA | NA |\n",
       "|  4 | NA | NA |  4 | NA | NA |  4 | NA |  3 |\n",
       "|  4 |  4 | NA | NA | NA | NA | NA | NA | NA |\n",
       "| NA |  4 | NA | NA | NA | NA | NA | NA | NA |\n",
       "| NA |  4 | NA | NA | NA | NA | NA | NA | NA |\n",
       "| NA |  3 | NA | NA | NA | NA | NA | NA | NA |\n",
       "| NA | NA |  4 | NA | NA | NA | NA | NA | NA |\n",
       "| NA | NA |  2 | NA | NA | NA | NA | NA |  4 |\n",
       "| NA | NA |  4 | NA | NA | NA | NA | NA | NA |\n",
       "| NA | NA |  4 | NA | NA |  4 | NA | NA | NA |\n",
       "| NA | NA |  4 | NA | NA | NA | NA | NA | NA |\n",
       "| NA | NA |  3 | NA | NA | NA | NA | NA | NA |\n",
       "|  4 | NA | NA |  2 | NA | NA | NA | NA |  4 |\n",
       "\n"
      ],
      "text/plain": [
       "      SQL Spatial PA.1 DM.in.R Python Forecast R.prog Hadoop Regression\n",
       " [1,]  4  NA      NA   NA       3      2        4     NA      2        \n",
       " [2,]  3   4      NA   NA       4     NA       NA     NA     NA        \n",
       " [3,]  2   2      NA   NA      NA     NA       NA     NA     NA        \n",
       " [4,]  4  NA      NA    4      NA     NA        4     NA      3        \n",
       " [5,]  4   4      NA   NA      NA     NA       NA     NA     NA        \n",
       " [6,] NA   4      NA   NA      NA     NA       NA     NA     NA        \n",
       " [7,] NA   4      NA   NA      NA     NA       NA     NA     NA        \n",
       " [8,] NA   3      NA   NA      NA     NA       NA     NA     NA        \n",
       " [9,] NA  NA       4   NA      NA     NA       NA     NA     NA        \n",
       "[10,] NA  NA       2   NA      NA     NA       NA     NA      4        \n",
       "[11,] NA  NA       4   NA      NA     NA       NA     NA     NA        \n",
       "[12,] NA  NA       4   NA      NA      4       NA     NA     NA        \n",
       "[13,] NA  NA       4   NA      NA     NA       NA     NA     NA        \n",
       "[14,] NA  NA       3   NA      NA     NA       NA     NA     NA        \n",
       "[15,]  4  NA      NA    2      NA     NA       NA     NA      4        "
      ]
     },
     "metadata": {},
     "output_type": "display_data"
    }
   ],
   "source": [
    "ratings_mat = as.matrix(ratings_m[,-1]) #remove student names column\n",
    "ratings_mat"
   ]
  },
  {
   "cell_type": "code",
   "execution_count": 261,
   "id": "e0f60f78",
   "metadata": {
    "scrolled": false
   },
   "outputs": [
    {
     "data": {
      "text/html": [
       "<table>\n",
       "<tbody>\n",
       "\t<tr><td>1.0000000</td><td>0.5354529</td><td>0.4040610</td><td>0.7190319</td><td>0.4040610</td><td>0.0000000</td><td>0.0000000</td><td>0.0000000</td><td>0.0000000</td><td>0.2555506</td><td>0.0000000</td><td>0.2020305</td><td>0.0000000</td><td>0.0000000</td><td>0.5714286</td></tr>\n",
       "\t<tr><td>0.5354529</td><td>1.0000000</td><td>0.7730207</td><td>0.2482286</td><td>0.7730207</td><td>0.6246950</td><td>0.6246950</td><td>0.6246950</td><td>0.0000000</td><td>0.0000000</td><td>0.0000000</td><td>0.0000000</td><td>0.0000000</td><td>0.0000000</td><td>0.3123475</td></tr>\n",
       "\t<tr><td>0.4040610</td><td>0.7730207</td><td>1.0000000</td><td>0.3746343</td><td>1.0000000</td><td>0.7071068</td><td>0.7071068</td><td>0.7071068</td><td>0.0000000</td><td>0.0000000</td><td>0.0000000</td><td>0.0000000</td><td>0.0000000</td><td>0.0000000</td><td>0.4714045</td></tr>\n",
       "\t<tr><td>0.7190319</td><td>0.2482286</td><td>0.3746343</td><td>1.0000000</td><td>0.3746343</td><td>0.0000000</td><td>0.0000000</td><td>0.0000000</td><td>0.0000000</td><td>0.3554093</td><td>0.0000000</td><td>0.0000000</td><td>0.0000000</td><td>0.0000000</td><td>0.7947194</td></tr>\n",
       "\t<tr><td>0.4040610</td><td>0.7730207</td><td>1.0000000</td><td>0.3746343</td><td>1.0000000</td><td>0.7071068</td><td>0.7071068</td><td>0.7071068</td><td>0.0000000</td><td>0.0000000</td><td>0.0000000</td><td>0.0000000</td><td>0.0000000</td><td>0.0000000</td><td>0.4714045</td></tr>\n",
       "\t<tr><td>0.0000000</td><td>0.6246950</td><td>0.7071068</td><td>0.0000000</td><td>0.7071068</td><td>1.0000000</td><td>1.0000000</td><td>1.0000000</td><td>0.0000000</td><td>0.0000000</td><td>0.0000000</td><td>0.0000000</td><td>0.0000000</td><td>0.0000000</td><td>0.0000000</td></tr>\n",
       "\t<tr><td>0.0000000</td><td>0.6246950</td><td>0.7071068</td><td>0.0000000</td><td>0.7071068</td><td>1.0000000</td><td>1.0000000</td><td>1.0000000</td><td>0.0000000</td><td>0.0000000</td><td>0.0000000</td><td>0.0000000</td><td>0.0000000</td><td>0.0000000</td><td>0.0000000</td></tr>\n",
       "\t<tr><td>0.0000000</td><td>0.6246950</td><td>0.7071068</td><td>0.0000000</td><td>0.7071068</td><td>1.0000000</td><td>1.0000000</td><td>1.0000000</td><td>0.0000000</td><td>0.0000000</td><td>0.0000000</td><td>0.0000000</td><td>0.0000000</td><td>0.0000000</td><td>0.0000000</td></tr>\n",
       "\t<tr><td>0.0000000</td><td>0.0000000</td><td>0.0000000</td><td>0.0000000</td><td>0.0000000</td><td>0.0000000</td><td>0.0000000</td><td>0.0000000</td><td>1.0000000</td><td>0.4472136</td><td>1.0000000</td><td>0.7071068</td><td>1.0000000</td><td>1.0000000</td><td>0.0000000</td></tr>\n",
       "\t<tr><td>0.2555506</td><td>0.0000000</td><td>0.0000000</td><td>0.3554093</td><td>0.0000000</td><td>0.0000000</td><td>0.0000000</td><td>0.0000000</td><td>0.4472136</td><td>1.0000000</td><td>0.4472136</td><td>0.3162278</td><td>0.4472136</td><td>0.4472136</td><td>0.5962848</td></tr>\n",
       "\t<tr><td>0.0000000</td><td>0.0000000</td><td>0.0000000</td><td>0.0000000</td><td>0.0000000</td><td>0.0000000</td><td>0.0000000</td><td>0.0000000</td><td>1.0000000</td><td>0.4472136</td><td>1.0000000</td><td>0.7071068</td><td>1.0000000</td><td>1.0000000</td><td>0.0000000</td></tr>\n",
       "\t<tr><td>0.2020305</td><td>0.0000000</td><td>0.0000000</td><td>0.0000000</td><td>0.0000000</td><td>0.0000000</td><td>0.0000000</td><td>0.0000000</td><td>0.7071068</td><td>0.3162278</td><td>0.7071068</td><td>1.0000000</td><td>0.7071068</td><td>0.7071068</td><td>0.0000000</td></tr>\n",
       "\t<tr><td>0.0000000</td><td>0.0000000</td><td>0.0000000</td><td>0.0000000</td><td>0.0000000</td><td>0.0000000</td><td>0.0000000</td><td>0.0000000</td><td>1.0000000</td><td>0.4472136</td><td>1.0000000</td><td>0.7071068</td><td>1.0000000</td><td>1.0000000</td><td>0.0000000</td></tr>\n",
       "\t<tr><td>0.0000000</td><td>0.0000000</td><td>0.0000000</td><td>0.0000000</td><td>0.0000000</td><td>0.0000000</td><td>0.0000000</td><td>0.0000000</td><td>1.0000000</td><td>0.4472136</td><td>1.0000000</td><td>0.7071068</td><td>1.0000000</td><td>1.0000000</td><td>0.0000000</td></tr>\n",
       "\t<tr><td>0.5714286</td><td>0.3123475</td><td>0.4714045</td><td>0.7947194</td><td>0.4714045</td><td>0.0000000</td><td>0.0000000</td><td>0.0000000</td><td>0.0000000</td><td>0.5962848</td><td>0.0000000</td><td>0.0000000</td><td>0.0000000</td><td>0.0000000</td><td>1.0000000</td></tr>\n",
       "</tbody>\n",
       "</table>\n"
      ],
      "text/latex": [
       "\\begin{tabular}{lllllllllllllll}\n",
       "\t 1.0000000 & 0.5354529 & 0.4040610 & 0.7190319 & 0.4040610 & 0.0000000 & 0.0000000 & 0.0000000 & 0.0000000 & 0.2555506 & 0.0000000 & 0.2020305 & 0.0000000 & 0.0000000 & 0.5714286\\\\\n",
       "\t 0.5354529 & 1.0000000 & 0.7730207 & 0.2482286 & 0.7730207 & 0.6246950 & 0.6246950 & 0.6246950 & 0.0000000 & 0.0000000 & 0.0000000 & 0.0000000 & 0.0000000 & 0.0000000 & 0.3123475\\\\\n",
       "\t 0.4040610 & 0.7730207 & 1.0000000 & 0.3746343 & 1.0000000 & 0.7071068 & 0.7071068 & 0.7071068 & 0.0000000 & 0.0000000 & 0.0000000 & 0.0000000 & 0.0000000 & 0.0000000 & 0.4714045\\\\\n",
       "\t 0.7190319 & 0.2482286 & 0.3746343 & 1.0000000 & 0.3746343 & 0.0000000 & 0.0000000 & 0.0000000 & 0.0000000 & 0.3554093 & 0.0000000 & 0.0000000 & 0.0000000 & 0.0000000 & 0.7947194\\\\\n",
       "\t 0.4040610 & 0.7730207 & 1.0000000 & 0.3746343 & 1.0000000 & 0.7071068 & 0.7071068 & 0.7071068 & 0.0000000 & 0.0000000 & 0.0000000 & 0.0000000 & 0.0000000 & 0.0000000 & 0.4714045\\\\\n",
       "\t 0.0000000 & 0.6246950 & 0.7071068 & 0.0000000 & 0.7071068 & 1.0000000 & 1.0000000 & 1.0000000 & 0.0000000 & 0.0000000 & 0.0000000 & 0.0000000 & 0.0000000 & 0.0000000 & 0.0000000\\\\\n",
       "\t 0.0000000 & 0.6246950 & 0.7071068 & 0.0000000 & 0.7071068 & 1.0000000 & 1.0000000 & 1.0000000 & 0.0000000 & 0.0000000 & 0.0000000 & 0.0000000 & 0.0000000 & 0.0000000 & 0.0000000\\\\\n",
       "\t 0.0000000 & 0.6246950 & 0.7071068 & 0.0000000 & 0.7071068 & 1.0000000 & 1.0000000 & 1.0000000 & 0.0000000 & 0.0000000 & 0.0000000 & 0.0000000 & 0.0000000 & 0.0000000 & 0.0000000\\\\\n",
       "\t 0.0000000 & 0.0000000 & 0.0000000 & 0.0000000 & 0.0000000 & 0.0000000 & 0.0000000 & 0.0000000 & 1.0000000 & 0.4472136 & 1.0000000 & 0.7071068 & 1.0000000 & 1.0000000 & 0.0000000\\\\\n",
       "\t 0.2555506 & 0.0000000 & 0.0000000 & 0.3554093 & 0.0000000 & 0.0000000 & 0.0000000 & 0.0000000 & 0.4472136 & 1.0000000 & 0.4472136 & 0.3162278 & 0.4472136 & 0.4472136 & 0.5962848\\\\\n",
       "\t 0.0000000 & 0.0000000 & 0.0000000 & 0.0000000 & 0.0000000 & 0.0000000 & 0.0000000 & 0.0000000 & 1.0000000 & 0.4472136 & 1.0000000 & 0.7071068 & 1.0000000 & 1.0000000 & 0.0000000\\\\\n",
       "\t 0.2020305 & 0.0000000 & 0.0000000 & 0.0000000 & 0.0000000 & 0.0000000 & 0.0000000 & 0.0000000 & 0.7071068 & 0.3162278 & 0.7071068 & 1.0000000 & 0.7071068 & 0.7071068 & 0.0000000\\\\\n",
       "\t 0.0000000 & 0.0000000 & 0.0000000 & 0.0000000 & 0.0000000 & 0.0000000 & 0.0000000 & 0.0000000 & 1.0000000 & 0.4472136 & 1.0000000 & 0.7071068 & 1.0000000 & 1.0000000 & 0.0000000\\\\\n",
       "\t 0.0000000 & 0.0000000 & 0.0000000 & 0.0000000 & 0.0000000 & 0.0000000 & 0.0000000 & 0.0000000 & 1.0000000 & 0.4472136 & 1.0000000 & 0.7071068 & 1.0000000 & 1.0000000 & 0.0000000\\\\\n",
       "\t 0.5714286 & 0.3123475 & 0.4714045 & 0.7947194 & 0.4714045 & 0.0000000 & 0.0000000 & 0.0000000 & 0.0000000 & 0.5962848 & 0.0000000 & 0.0000000 & 0.0000000 & 0.0000000 & 1.0000000\\\\\n",
       "\\end{tabular}\n"
      ],
      "text/markdown": [
       "\n",
       "| 1.0000000 | 0.5354529 | 0.4040610 | 0.7190319 | 0.4040610 | 0.0000000 | 0.0000000 | 0.0000000 | 0.0000000 | 0.2555506 | 0.0000000 | 0.2020305 | 0.0000000 | 0.0000000 | 0.5714286 |\n",
       "| 0.5354529 | 1.0000000 | 0.7730207 | 0.2482286 | 0.7730207 | 0.6246950 | 0.6246950 | 0.6246950 | 0.0000000 | 0.0000000 | 0.0000000 | 0.0000000 | 0.0000000 | 0.0000000 | 0.3123475 |\n",
       "| 0.4040610 | 0.7730207 | 1.0000000 | 0.3746343 | 1.0000000 | 0.7071068 | 0.7071068 | 0.7071068 | 0.0000000 | 0.0000000 | 0.0000000 | 0.0000000 | 0.0000000 | 0.0000000 | 0.4714045 |\n",
       "| 0.7190319 | 0.2482286 | 0.3746343 | 1.0000000 | 0.3746343 | 0.0000000 | 0.0000000 | 0.0000000 | 0.0000000 | 0.3554093 | 0.0000000 | 0.0000000 | 0.0000000 | 0.0000000 | 0.7947194 |\n",
       "| 0.4040610 | 0.7730207 | 1.0000000 | 0.3746343 | 1.0000000 | 0.7071068 | 0.7071068 | 0.7071068 | 0.0000000 | 0.0000000 | 0.0000000 | 0.0000000 | 0.0000000 | 0.0000000 | 0.4714045 |\n",
       "| 0.0000000 | 0.6246950 | 0.7071068 | 0.0000000 | 0.7071068 | 1.0000000 | 1.0000000 | 1.0000000 | 0.0000000 | 0.0000000 | 0.0000000 | 0.0000000 | 0.0000000 | 0.0000000 | 0.0000000 |\n",
       "| 0.0000000 | 0.6246950 | 0.7071068 | 0.0000000 | 0.7071068 | 1.0000000 | 1.0000000 | 1.0000000 | 0.0000000 | 0.0000000 | 0.0000000 | 0.0000000 | 0.0000000 | 0.0000000 | 0.0000000 |\n",
       "| 0.0000000 | 0.6246950 | 0.7071068 | 0.0000000 | 0.7071068 | 1.0000000 | 1.0000000 | 1.0000000 | 0.0000000 | 0.0000000 | 0.0000000 | 0.0000000 | 0.0000000 | 0.0000000 | 0.0000000 |\n",
       "| 0.0000000 | 0.0000000 | 0.0000000 | 0.0000000 | 0.0000000 | 0.0000000 | 0.0000000 | 0.0000000 | 1.0000000 | 0.4472136 | 1.0000000 | 0.7071068 | 1.0000000 | 1.0000000 | 0.0000000 |\n",
       "| 0.2555506 | 0.0000000 | 0.0000000 | 0.3554093 | 0.0000000 | 0.0000000 | 0.0000000 | 0.0000000 | 0.4472136 | 1.0000000 | 0.4472136 | 0.3162278 | 0.4472136 | 0.4472136 | 0.5962848 |\n",
       "| 0.0000000 | 0.0000000 | 0.0000000 | 0.0000000 | 0.0000000 | 0.0000000 | 0.0000000 | 0.0000000 | 1.0000000 | 0.4472136 | 1.0000000 | 0.7071068 | 1.0000000 | 1.0000000 | 0.0000000 |\n",
       "| 0.2020305 | 0.0000000 | 0.0000000 | 0.0000000 | 0.0000000 | 0.0000000 | 0.0000000 | 0.0000000 | 0.7071068 | 0.3162278 | 0.7071068 | 1.0000000 | 0.7071068 | 0.7071068 | 0.0000000 |\n",
       "| 0.0000000 | 0.0000000 | 0.0000000 | 0.0000000 | 0.0000000 | 0.0000000 | 0.0000000 | 0.0000000 | 1.0000000 | 0.4472136 | 1.0000000 | 0.7071068 | 1.0000000 | 1.0000000 | 0.0000000 |\n",
       "| 0.0000000 | 0.0000000 | 0.0000000 | 0.0000000 | 0.0000000 | 0.0000000 | 0.0000000 | 0.0000000 | 1.0000000 | 0.4472136 | 1.0000000 | 0.7071068 | 1.0000000 | 1.0000000 | 0.0000000 |\n",
       "| 0.5714286 | 0.3123475 | 0.4714045 | 0.7947194 | 0.4714045 | 0.0000000 | 0.0000000 | 0.0000000 | 0.0000000 | 0.5962848 | 0.0000000 | 0.0000000 | 0.0000000 | 0.0000000 | 1.0000000 |\n",
       "\n"
      ],
      "text/plain": [
       "      [,1]      [,2]      [,3]      [,4]      [,5]      [,6]      [,7]     \n",
       " [1,] 1.0000000 0.5354529 0.4040610 0.7190319 0.4040610 0.0000000 0.0000000\n",
       " [2,] 0.5354529 1.0000000 0.7730207 0.2482286 0.7730207 0.6246950 0.6246950\n",
       " [3,] 0.4040610 0.7730207 1.0000000 0.3746343 1.0000000 0.7071068 0.7071068\n",
       " [4,] 0.7190319 0.2482286 0.3746343 1.0000000 0.3746343 0.0000000 0.0000000\n",
       " [5,] 0.4040610 0.7730207 1.0000000 0.3746343 1.0000000 0.7071068 0.7071068\n",
       " [6,] 0.0000000 0.6246950 0.7071068 0.0000000 0.7071068 1.0000000 1.0000000\n",
       " [7,] 0.0000000 0.6246950 0.7071068 0.0000000 0.7071068 1.0000000 1.0000000\n",
       " [8,] 0.0000000 0.6246950 0.7071068 0.0000000 0.7071068 1.0000000 1.0000000\n",
       " [9,] 0.0000000 0.0000000 0.0000000 0.0000000 0.0000000 0.0000000 0.0000000\n",
       "[10,] 0.2555506 0.0000000 0.0000000 0.3554093 0.0000000 0.0000000 0.0000000\n",
       "[11,] 0.0000000 0.0000000 0.0000000 0.0000000 0.0000000 0.0000000 0.0000000\n",
       "[12,] 0.2020305 0.0000000 0.0000000 0.0000000 0.0000000 0.0000000 0.0000000\n",
       "[13,] 0.0000000 0.0000000 0.0000000 0.0000000 0.0000000 0.0000000 0.0000000\n",
       "[14,] 0.0000000 0.0000000 0.0000000 0.0000000 0.0000000 0.0000000 0.0000000\n",
       "[15,] 0.5714286 0.3123475 0.4714045 0.7947194 0.4714045 0.0000000 0.0000000\n",
       "      [,8]      [,9]      [,10]     [,11]     [,12]     [,13]     [,14]    \n",
       " [1,] 0.0000000 0.0000000 0.2555506 0.0000000 0.2020305 0.0000000 0.0000000\n",
       " [2,] 0.6246950 0.0000000 0.0000000 0.0000000 0.0000000 0.0000000 0.0000000\n",
       " [3,] 0.7071068 0.0000000 0.0000000 0.0000000 0.0000000 0.0000000 0.0000000\n",
       " [4,] 0.0000000 0.0000000 0.3554093 0.0000000 0.0000000 0.0000000 0.0000000\n",
       " [5,] 0.7071068 0.0000000 0.0000000 0.0000000 0.0000000 0.0000000 0.0000000\n",
       " [6,] 1.0000000 0.0000000 0.0000000 0.0000000 0.0000000 0.0000000 0.0000000\n",
       " [7,] 1.0000000 0.0000000 0.0000000 0.0000000 0.0000000 0.0000000 0.0000000\n",
       " [8,] 1.0000000 0.0000000 0.0000000 0.0000000 0.0000000 0.0000000 0.0000000\n",
       " [9,] 0.0000000 1.0000000 0.4472136 1.0000000 0.7071068 1.0000000 1.0000000\n",
       "[10,] 0.0000000 0.4472136 1.0000000 0.4472136 0.3162278 0.4472136 0.4472136\n",
       "[11,] 0.0000000 1.0000000 0.4472136 1.0000000 0.7071068 1.0000000 1.0000000\n",
       "[12,] 0.0000000 0.7071068 0.3162278 0.7071068 1.0000000 0.7071068 0.7071068\n",
       "[13,] 0.0000000 1.0000000 0.4472136 1.0000000 0.7071068 1.0000000 1.0000000\n",
       "[14,] 0.0000000 1.0000000 0.4472136 1.0000000 0.7071068 1.0000000 1.0000000\n",
       "[15,] 0.0000000 0.0000000 0.5962848 0.0000000 0.0000000 0.0000000 0.0000000\n",
       "      [,15]    \n",
       " [1,] 0.5714286\n",
       " [2,] 0.3123475\n",
       " [3,] 0.4714045\n",
       " [4,] 0.7947194\n",
       " [5,] 0.4714045\n",
       " [6,] 0.0000000\n",
       " [7,] 0.0000000\n",
       " [8,] 0.0000000\n",
       " [9,] 0.0000000\n",
       "[10,] 0.5962848\n",
       "[11,] 0.0000000\n",
       "[12,] 0.0000000\n",
       "[13,] 0.0000000\n",
       "[14,] 0.0000000\n",
       "[15,] 1.0000000"
      ]
     },
     "metadata": {},
     "output_type": "display_data"
    }
   ],
   "source": [
    "library(coop)\n",
    "library(lsa)\n",
    "r <- ratings_mat #create copy of matrix\n",
    "r[is.na(r)] <- 0 #replace NA with 0\n",
    "tcosine(r)"
   ]
  },
  {
   "cell_type": "markdown",
   "id": "cfbb5150",
   "metadata": {},
   "source": [
    "#### This table shows the cosine similarities between the 15 users. Looking at column 4 which represents the user EN (out target) we can see that the highest number in this column is in the last row 0.7947194. This means that EN has the highest cosine similarity with the last user in the table who is DS. The second highest user is the first user LN with a cosine similarity of 0.7190319"
   ]
  },
  {
   "cell_type": "markdown",
   "id": "3cd4e18e",
   "metadata": {},
   "source": [
    "### d. Based on the cosine similarities of the nearest students to E.N., which course should be recommended to E.N.?"
   ]
  },
  {
   "cell_type": "code",
   "execution_count": 236,
   "id": "dcebded0",
   "metadata": {},
   "outputs": [
    {
     "name": "stdout",
     "output_type": "stream",
     "text": [
      "[1] \"Python\"\n"
     ]
    }
   ],
   "source": [
    "library(recommenderlab)\n",
    "\n",
    "ratings_mat = as(ratings_mat, \"realRatingMatrix\")\n",
    "\n",
    "#Create Recommender Model. The parameters are UBCF (user based) and Cosine similarity.\n",
    "rec_mod = Recommender(ratings_mat, method = \"UBCF\", param=list(method=\"Cosine\",nn=15)) \n",
    "\n",
    "#Obtain top 1 recommendation for EN (user 4)\n",
    "Top_1_pred = predict(rec_mod, ratings_mat[4], n=1)\n",
    "\n",
    "\n",
    "#Convert the recommendation to a list\n",
    "Top_1_List = as(Top_1_pred, \"list\")\n",
    "Top_1_List"
   ]
  },
  {
   "cell_type": "markdown",
   "id": "7fda2add",
   "metadata": {},
   "source": [
    "#### Based on the cosine similarities of the nearest student to EN the model recommended Python as well. This is based on the second highest cosine similarity user LN. Since the student DS who had the highest cosine similarity took the same courses as EN."
   ]
  },
  {
   "cell_type": "markdown",
   "id": "c30f6c0f",
   "metadata": {},
   "source": [
    "### e. Apply item-based collaborative filtering to this dataset (using R) and based on the results, recommend a course to E.N."
   ]
  },
  {
   "cell_type": "code",
   "execution_count": 238,
   "id": "7dd99678",
   "metadata": {},
   "outputs": [
    {
     "name": "stdout",
     "output_type": "stream",
     "text": [
      "[1] \"Forecast\"\n"
     ]
    }
   ],
   "source": [
    "#Create Recommender Model. The parameters are IBCF (item based) and Cosine similarity.\n",
    "rec_mod2 = Recommender(ratings_mat, method = \"IBCF\", param=list(method=\"Cosine\",nn=15)) \n",
    "\n",
    "#Obtain top 1 recommendation for EN (user 4)\n",
    "Top_1_pred = predict(rec_mod2, ratings_mat[4], n=1)\n",
    "\n",
    "\n",
    "#Convert the recommendation to a list\n",
    "Top_1_List = as(Top_1_pred, \"list\")\n",
    "Top_1_List"
   ]
  },
  {
   "cell_type": "markdown",
   "id": "910b8a39",
   "metadata": {},
   "source": [
    "#### Based on the cosine similarities but this time using Item-based collaborative filtering instead of user base, the recommended course to EN this time was Forecast."
   ]
  }
 ],
 "metadata": {
  "kernelspec": {
   "display_name": "R",
   "language": "R",
   "name": "ir"
  },
  "language_info": {
   "codemirror_mode": "r",
   "file_extension": ".r",
   "mimetype": "text/x-r-source",
   "name": "R",
   "pygments_lexer": "r",
   "version": "3.6.1"
  }
 },
 "nbformat": 4,
 "nbformat_minor": 5
}
